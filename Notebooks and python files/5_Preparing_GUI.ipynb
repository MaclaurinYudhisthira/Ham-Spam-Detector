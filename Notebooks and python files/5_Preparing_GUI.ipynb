{
 "cells": [
  {
   "cell_type": "code",
   "execution_count": null,
   "metadata": {},
   "outputs": [],
   "source": [
    "import tkinter as tk"
   ]
  },
  {
   "cell_type": "code",
   "execution_count": null,
   "metadata": {},
   "outputs": [],
   "source": [
    "rx=1\n",
    "ry=1\n",
    "rh=1\n",
    "rw=1"
   ]
  },
  {
   "cell_type": "code",
   "execution_count": null,
   "metadata": {},
   "outputs": [],
   "source": [
    "\n",
    "root=tk.Tk()\n",
    "\n",
    "bg_image=tk.PhotoImage(file='..//Raw material//Picture by joanna-kosinska-on-unsplash1.png')\n",
    "bg_label=tk.Label(root,image=bg_image)\n",
    "bg_label.place(relheight=1,relwidth=1)\n",
    "# Cradits to joanna-kosinska\n",
    "\n",
    "\n",
    "frame1=tk.Frame(root,bg='#ff5e19',bd=3)\n",
    "frame1.place(relx=.25*rx,rely=.4*ry,relheight=.08*rh,relwidth=.5*rw)\n",
    "\n",
    "entry=tk.Entry(frame1)\n",
    "entry.place(relx=.01*rx,rely=.05*ry,relheight=.9*rh,relwidth=.76*rw)\n",
    "\n",
    "btn1=tk.Button(frame1,text='Check',font=12)\n",
    "btn1.place(relx=.78*rx,rely=.05*ry,relheight=.9*rh,relwidth=.21*rw)\n",
    "\n",
    "frame2=tk.Frame(root,bg='#ff5e19',bd=1)\n",
    "frame2.place(relx=.425*rx,rely=.53*ry,relheight=.08*rh,relwidth=.15*rw)\n",
    "\n",
    "label=tk.Label(frame2,text='',font=(1),bg='#ffffff')\n",
    "label.place(relx=.01*rx,rely=.03*ry,relheight=.94*rh,relwidth=.98*rw)\n",
    "\n",
    "root.title('Spam Detector')\n",
    "root.minsize(600,300)\n",
    "root.iconbitmap('..//Raw material//icons8-important-mail-64.ico')\n",
    "\n",
    "root.mainloop()\n",
    "\n",
    "# This code was not running properly on jupyter notebook\n",
    "# But runs well when written in a python file (.py)"
   ]
  }
 ],
 "metadata": {
  "kernelspec": {
   "display_name": "'Python Interactive'",
   "language": "python",
   "name": "5473b972-ada4-4097-9c4d-16b6589567f0"
  },
  "language_info": {
   "codemirror_mode": {
    "name": "ipython",
    "version": 3
   },
   "file_extension": ".py",
   "mimetype": "text/x-python",
   "name": "python",
   "nbconvert_exporter": "python",
   "pygments_lexer": "ipython3",
   "version": "3.6.5"
  }
 },
 "nbformat": 4,
 "nbformat_minor": 2
}
